{
 "cells": [
  {
   "cell_type": "markdown",
   "id": "bd983b75",
   "metadata": {},
   "source": [
    "# Бэггинг и случайный лес"
   ]
  },
  {
   "cell_type": "markdown",
   "id": "a7146970",
   "metadata": {},
   "source": [
    "Загрузите датасет digits с помощью функции load_digits из sklearn.datasets и подготовьте матрицу признаков X и ответы на обучающей выборке y (вам потребуются поля data и target в объекте, который возвращает load_digits)."
   ]
  },
  {
   "cell_type": "markdown",
   "id": "9921e11d",
   "metadata": {},
   "source": [
    "Для оценки качества далее нужно будет использовать cross_val_score из sklearn.model_selection с параметром cv=10. Эта функция реализует k-fold cross validation c k равным значению параметра cv. Мы предлагаем использовать k=10, чтобы полученные оценки качества имели небольшой разброс, и было проще проверить полученные ответы. На практике же часто хватает и k=5. Функция cross_val_score будет возвращать numpy.ndarray, в котором будет k чисел - качество в каждом из k экспериментов k-fold cross validation. Для получения среднего значения (которое и будет оценкой качества работы) вызовите метод .mean() у массива, который возвращает cross_val_score."
   ]
  },
  {
   "cell_type": "markdown",
   "id": "726563a6",
   "metadata": {},
   "source": [
    "1. Создайте DecisionTreeClassifier с настройками по умолчанию и измерьте качество его работы с помощью cross_val_score. \n",
    "    Эта величина и будет ответом в пункте 1."
   ]
  },
  {
   "cell_type": "code",
   "execution_count": 10,
   "id": "60b5e2da",
   "metadata": {},
   "outputs": [
    {
     "name": "stdout",
     "output_type": "stream",
     "text": [
      "(1797, 64)\n"
     ]
    }
   ],
   "source": [
    "from sklearn.datasets import load_digits\n",
    "import pandas as pd\n",
    "from sklearn import datasets, tree, model_selection, ensemble\n",
    "from sklearn.model_selection import cross_val_score\n",
    "\n",
    "from math import sqrt\n",
    "\n",
    "import numpy as np\n",
    "from matplotlib import pyplot as plt\n",
    "%matplotlib inline\n",
    "\n",
    "digits = load_digits()\n",
    "print(digits.data.shape)"
   ]
  },
  {
   "cell_type": "code",
   "execution_count": 11,
   "id": "1f3a61f0",
   "metadata": {},
   "outputs": [
    {
     "data": {
      "image/png": "[encoded data removed]",
      "text/plain": [
       "<Figure size 432x288 with 4 Axes>"
      ]
     },
     "metadata": {
      "needs_background": "light"
     },
     "output_type": "display_data"
    }
   ],
   "source": [
    "images_and_labels = list(zip(digits.images, digits.target))\n",
    "for index, (image, label) in enumerate(images_and_labels[:4]):\n",
    "    plt.subplot(2, 4, index + 1)\n",
    "    plt.axis('off')\n",
    "    plt.imshow(image, cmap=plt.cm.gray_r, interpolation='nearest')\n",
    "    plt.title('Training: %i' % label)"
   ]
  },
  {
   "cell_type": "code",
   "execution_count": 12,
   "id": "13eb5fa0",
   "metadata": {},
   "outputs": [],
   "source": [
    "X = digits.data\n",
    "y = digits.target"
   ]
  },
  {
   "cell_type": "code",
   "execution_count": 13,
   "id": "36c0a5c2",
   "metadata": {},
   "outputs": [
    {
     "name": "stdout",
     "output_type": "stream",
     "text": [
      "0.8246958410924892\n"
     ]
    }
   ],
   "source": [
    "clf         = tree.DecisionTreeClassifier()\n",
    "x_val_score = cross_val_score(clf, X, y, cv=10).mean()\n",
    "print(x_val_score)"
   ]
  },
  {
   "cell_type": "markdown",
   "id": "c1c1ca88",
   "metadata": {},
   "source": [
    "2. Воспользуйтесь BaggingClassifier из sklearn.ensemble, чтобы обучить бэггинг над DecisionTreeClassifier. Используйте в BaggingClassifier параметры по умолчанию, задав только количество деревьев равным 100. Качество классификации новой модели - ответ в пункте 2. Обратите внимание, как соотносится качество работы композиции решающих деревьев с качеством работы одного решающего дерева."
   ]
  },
  {
   "cell_type": "code",
   "execution_count": 14,
   "id": "3ed32167",
   "metadata": {},
   "outputs": [
    {
     "name": "stdout",
     "output_type": "stream",
     "text": [
      "0.9259404096834263\n"
     ]
    }
   ],
   "source": [
    "bagging_clf = ensemble.BaggingClassifier(clf, n_estimators=100)\n",
    "x_val_score = cross_val_score(bagging_clf, X, y, cv=10).mean()\n",
    "print(x_val_score)"
   ]
  },
  {
   "cell_type": "markdown",
   "id": "8b258ed6",
   "metadata": {},
   "source": [
    "3. Теперь изучите параметры BaggingClassifier и выберите их такими, чтобы каждый базовый алгоритм обучался не на всех d признаках, а на корень из d случайных признаков. Качество работы получившегося классификатора - ответ в пункте 3. Корень из числа признаков - часто используемая эвристика в задачах классификации, в задачах регрессии же часто берут число признаков, деленное на три. Но в общем случае ничто не мешает вам выбирать любое другое число случайных признаков."
   ]
  },
  {
   "cell_type": "code",
   "execution_count": 15,
   "id": "4c1db557",
   "metadata": {},
   "outputs": [
    {
     "name": "stdout",
     "output_type": "stream",
     "text": [
      "0.9354469273743016\n"
     ]
    }
   ],
   "source": [
    "stoch_train_len = int(sqrt(X.shape[1]))\n",
    "\n",
    "bagging_clf = ensemble.BaggingClassifier(clf, n_estimators=100, max_features=stoch_train_len)\n",
    "x_val_score = cross_val_score(bagging_clf, X, y, cv=10).mean()\n",
    "print(x_val_score)"
   ]
  },
  {
   "cell_type": "markdown",
   "id": "9262aa5d",
   "metadata": {},
   "source": [
    "4. Чтобы выбирать случайные признаки  при построении каждой вершины дерева - нужно убрать выбор случайного подмножества признаков в BaggingClassifier и добавить его в DecisionTreeClassifier. Какой параметр за это отвечает, можно понять из документации sklearn, либо просто попробовать угадать (скорее всего, у вас сразу получится). Попробуйте выбирать опять же корень из d признаков. Качество полученного классификатора на контрольной выборке и будет ответом в пункте 4."
   ]
  },
  {
   "cell_type": "code",
   "execution_count": 16,
   "id": "08e7822b",
   "metadata": {},
   "outputs": [
    {
     "name": "stdout",
     "output_type": "stream",
     "text": [
      "0.9354469273743016\n"
     ]
    }
   ],
   "source": [
    "stoch_clf       = tree.DecisionTreeClassifier(max_features=stoch_train_len)\n",
    "bagging_clf     = ensemble.BaggingClassifier(stoch_clf, n_estimators=100)\n",
    "x_val_score_own = cross_val_score(bagging_clf, X, y, cv=10).mean()\n",
    "print(x_val_score)"
   ]
  },
  {
   "cell_type": "markdown",
   "id": "62d16723",
   "metadata": {},
   "source": [
    "5. Бэггинг на рандомизированных деревьях\n",
    "Полученный в пункте 4 классификатор - бэггинг на рандомизированных деревьях (в которых при построении каждой вершины выбирается случайное подмножество признаков и разбиение ищется только по ним). Это в точности соответствует алгоритму Random Forest, поэтому почему бы не сравнить качество работы классификатора с RandomForestClassifier из sklearn.ensemble. Сделайте это, а затем изучите, как качество классификации на данном датасете зависит от количества деревьев, количества признаков, выбираемых при построении каждой вершины дерева, а также ограничений на глубину дерева. Для наглядности лучше построить графики зависимости качества от значений параметров, но для сдачи задания это делать не обязательно. \n",
    "\n",
    "    На основе наблюдений выпишите через пробел номера правильных утверждений из приведенных ниже в порядке возрастания номера (это будет ответ в п.5)"
   ]
  },
  {
   "cell_type": "code",
   "execution_count": 17,
   "id": "2e571275",
   "metadata": {},
   "outputs": [
    {
     "name": "stdout",
     "output_type": "stream",
     "text": [
      "0.9487988826815641\n"
     ]
    }
   ],
   "source": [
    "random_forest_clf = ensemble.RandomForestClassifier(random_state=stoch_train_len, n_estimators=100)\n",
    "x_val_score_lib   = cross_val_score(random_forest_clf, X, y, cv=10).mean()\n",
    "print(x_val_score_lib)"
   ]
  },
  {
   "cell_type": "code",
   "execution_count": null,
   "id": "196e3510",
   "metadata": {},
   "outputs": [],
   "source": []
  }
 ],
 "metadata": {
  "kernelspec": {
   "display_name": "Python 3",
   "language": "python",
   "name": "python3"
  },
  "language_info": {
   "codemirror_mode": {
    "name": "ipython",
    "version": 3
   },
   "file_extension": ".py",
   "mimetype": "text/x-python",
   "name": "python",
   "nbconvert_exporter": "python",
   "pygments_lexer": "ipython3",
   "version": "3.8.8"
  }
 },
 "nbformat": 4,
 "nbformat_minor": 5
}
