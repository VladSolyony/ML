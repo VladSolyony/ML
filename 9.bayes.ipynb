{
 "cells": [
  {
   "cell_type": "markdown",
   "id": "a54269ec",
   "metadata": {},
   "source": [
    "# Выбор семейства распределений в наивном байесе"
   ]
  },
  {
   "cell_type": "markdown",
   "id": "db3e632f",
   "metadata": {},
   "source": [
    "Загрузите датасеты digits и breast_cancer из sklearn.datasets. Выведите несколько строчек из обучающих выборок и посмотрите на признаки. С помощью sklearn.cross_validation.cross_val_score c настройками по умолчанию и вызова метода mean() у возвращаемого этой функцией numpy.ndarray, сравните качество работы наивных байесовских классификаторов на этих двух датасетах. Для сравнения предлагается использовать BernoulliNB, MultinomialNB и GaussianNB."
   ]
  },
  {
   "cell_type": "markdown",
   "id": "06674e72",
   "metadata": {},
   "source": [
    "## Вопрос 1\n",
    "Каким получилось максимальное качество классификации на датасете breast_cancer?\n",
    "## Вопрос 2\n",
    "Каким получилось максимальное качество классификации на датасете digits?"
   ]
  },
  {
   "cell_type": "code",
   "execution_count": 7,
   "id": "f5dcb1d7",
   "metadata": {},
   "outputs": [],
   "source": [
    "from sklearn import datasets\n",
    "from sklearn.naive_bayes import BernoulliNB, MultinomialNB, GaussianNB\n",
    "from sklearn.model_selection import cross_val_score\n",
    "import numpy as np"
   ]
  },
  {
   "cell_type": "code",
   "execution_count": 8,
   "id": "a6f24536",
   "metadata": {},
   "outputs": [],
   "source": [
    "digits = datasets.load_digits()\n",
    "breast = datasets.load_breast_cancer()"
   ]
  },
  {
   "cell_type": "code",
   "execution_count": 9,
   "id": "ace98b13",
   "metadata": {},
   "outputs": [],
   "source": [
    "X_digits = digits.data\n",
    "y_digits = digits.target\n",
    "\n",
    "X_breast = breast.data\n",
    "y_breast = breast.target"
   ]
  },
  {
   "cell_type": "code",
   "execution_count": 10,
   "id": "389e68f6",
   "metadata": {},
   "outputs": [],
   "source": [
    "Bern_clf = BernoulliNB()\n",
    "Mult_clf = MultinomialNB()\n",
    "Gauss_clf = GaussianNB()"
   ]
  },
  {
   "cell_type": "code",
   "execution_count": 11,
   "id": "6c9f9fd2",
   "metadata": {},
   "outputs": [],
   "source": [
    "Bern_val_score_digits = cross_val_score(Bern_clf,X_digits,y_digits).mean()\n",
    "Mult_val_score_digits = cross_val_score(Mult_clf,X_digits,y_digits).mean()\n",
    "Gauss_val_score_digits = cross_val_score(Gauss_clf,X_digits,y_digits).mean()\n",
    "\n",
    "Bern_val_score_breast = cross_val_score(Bern_clf,X_breast,y_breast).mean()\n",
    "Mult_val_score_breast = cross_val_score(Mult_clf,X_breast,y_breast).mean()\n",
    "Gauss_val_score_breast = cross_val_score(Gauss_clf,X_breast,y_breast).mean()"
   ]
  },
  {
   "cell_type": "code",
   "execution_count": 12,
   "id": "1625b0e7",
   "metadata": {},
   "outputs": [
    {
     "name": "stdout",
     "output_type": "stream",
     "text": [
      "BernoulliNB, digits =  0.8241736304549674\n",
      "MultinomialNB, digits =  0.8703497369235531\n",
      "GaussianNB, digits =  0.8069281956050759\n",
      "BernoulliNB, breast =  0.6274181027790716\n",
      "MultinomialNB, breast =  0.8963204471355379\n",
      "GaussianNB, breast =  0.9385188635305075\n"
     ]
    }
   ],
   "source": [
    "print ('BernoulliNB, digits = ', Bern_val_score_digits)\n",
    "print ('MultinomialNB, digits = ', Mult_val_score_digits)\n",
    "print ('GaussianNB, digits = ', Gauss_val_score_digits)\n",
    "print\n",
    "print ('BernoulliNB, breast = ', Bern_val_score_breast)\n",
    "print ('MultinomialNB, breast = ', Mult_val_score_breast)\n",
    "print ('GaussianNB, breast = ', Gauss_val_score_breast)"
   ]
  },
  {
   "cell_type": "code",
   "execution_count": null,
   "id": "1fc57828",
   "metadata": {},
   "outputs": [],
   "source": []
  }
 ],
 "metadata": {
  "kernelspec": {
   "display_name": "Python 3",
   "language": "python",
   "name": "python3"
  },
  "language_info": {
   "codemirror_mode": {
    "name": "ipython",
    "version": 3
   },
   "file_extension": ".py",
   "mimetype": "text/x-python",
   "name": "python",
   "nbconvert_exporter": "python",
   "pygments_lexer": "ipython3",
   "version": "3.8.8"
  }
 },
 "nbformat": 4,
 "nbformat_minor": 5
}
